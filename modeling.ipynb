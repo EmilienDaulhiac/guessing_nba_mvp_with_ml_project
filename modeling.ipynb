{
 "cells": [
  {
   "cell_type": "markdown",
   "metadata": {},
   "source": [
    "# Modeling\n",
    "## First method: Decision tree"
   ]
  },
  {
   "cell_type": "markdown",
   "metadata": {},
   "source": [
    "- **Interpretability:** Decision trees provide a clear and interpretable structure, allowing us to easily understand and communicate the factors influencing MVP votes.\n",
    "\n",
    "- **Non-linearity Handling:** Captures complex, non-linear relationships in player statistics that may influence MVP voting, offering a more flexible model than linear regression.\n",
    "\n",
    "- **Feature Importance:** Decision trees inherently rank features based on their importance, aiding in identifying key statistics that significantly impact MVP voting.\n",
    "\n",
    "- **Handling Non-Normal Distributions:** Decision trees are robust to non-normal distributions in predictor variables, making them suitable for modeling the diverse nature of sports statistics.\n"
   ]
  },
  {
   "cell_type": "code",
   "execution_count": 1,
   "metadata": {
    "tags": [
     "remove-cell"
    ]
   },
   "outputs": [],
   "source": [
    "import pandas as pd\n",
    "import numpy as np\n",
    "import seaborn as sns\n",
    "import matplotlib.pyplot as plt\n",
    "from sklearn.preprocessing import MinMaxScaler\n",
    "from sklearn.model_selection import GridSearchCV\n",
    "from sklearn.tree import DecisionTreeRegressor  \n",
    "from src.PreProcessing import PlayersData, create_clean_dataset_for_test, clean_input_data_for_regression, clean_scale_input_data_for_cnn, apply_eligibilty_criteria\n",
    "from sklearn.ensemble import RandomForestRegressor\n",
    "from src.modeling import train_decision_tree, train_cnn, train_random_forest, evaluate_regression_model, evaluate_MVP_classification_from_regression, evaluate_cnn_model\n",
    "\n",
    "import warnings\n",
    "warnings.filterwarnings('ignore')"
   ]
  },
  {
   "cell_type": "code",
   "execution_count": 2,
   "metadata": {},
   "outputs": [
    {
     "name": "stdout",
     "output_type": "stream",
     "text": [
      "Shape of raw data:  (17697, 55)\n"
     ]
    },
    {
     "data": {
      "text/html": [
       "<div>\n",
       "<style scoped>\n",
       "    .dataframe tbody tr th:only-of-type {\n",
       "        vertical-align: middle;\n",
       "    }\n",
       "\n",
       "    .dataframe tbody tr th {\n",
       "        vertical-align: top;\n",
       "    }\n",
       "\n",
       "    .dataframe thead th {\n",
       "        text-align: right;\n",
       "    }\n",
       "</style>\n",
       "<table border=\"1\" class=\"dataframe\">\n",
       "  <thead>\n",
       "    <tr style=\"text-align: right;\">\n",
       "      <th></th>\n",
       "      <th>season</th>\n",
       "      <th>player</th>\n",
       "      <th>pos</th>\n",
       "      <th>age</th>\n",
       "      <th>team_id</th>\n",
       "      <th>g</th>\n",
       "      <th>gs</th>\n",
       "      <th>mp_per_g</th>\n",
       "      <th>fg_per_g</th>\n",
       "      <th>fga_per_g</th>\n",
       "      <th>...</th>\n",
       "      <th>ws</th>\n",
       "      <th>ws_per_48</th>\n",
       "      <th>obpm</th>\n",
       "      <th>dbpm</th>\n",
       "      <th>bpm</th>\n",
       "      <th>vorp</th>\n",
       "      <th>award_share</th>\n",
       "      <th>mov</th>\n",
       "      <th>mov_adj</th>\n",
       "      <th>win_loss_pct</th>\n",
       "    </tr>\n",
       "  </thead>\n",
       "  <tbody>\n",
       "    <tr>\n",
       "      <th>0</th>\n",
       "      <td>1982</td>\n",
       "      <td>Kareem Abdul-Jabbar</td>\n",
       "      <td>C</td>\n",
       "      <td>34</td>\n",
       "      <td>LAL</td>\n",
       "      <td>76</td>\n",
       "      <td>76</td>\n",
       "      <td>35.2</td>\n",
       "      <td>9.9</td>\n",
       "      <td>17.1</td>\n",
       "      <td>...</td>\n",
       "      <td>10.7</td>\n",
       "      <td>0.192</td>\n",
       "      <td>3.8</td>\n",
       "      <td>1.2</td>\n",
       "      <td>5.0</td>\n",
       "      <td>4.7</td>\n",
       "      <td>0.045</td>\n",
       "      <td>4.87</td>\n",
       "      <td>4.37</td>\n",
       "      <td>0.695</td>\n",
       "    </tr>\n",
       "    <tr>\n",
       "      <th>1</th>\n",
       "      <td>1982</td>\n",
       "      <td>Alvan Adams</td>\n",
       "      <td>C</td>\n",
       "      <td>27</td>\n",
       "      <td>PHO</td>\n",
       "      <td>79</td>\n",
       "      <td>75</td>\n",
       "      <td>30.3</td>\n",
       "      <td>6.4</td>\n",
       "      <td>13.0</td>\n",
       "      <td>...</td>\n",
       "      <td>7.2</td>\n",
       "      <td>0.144</td>\n",
       "      <td>1.4</td>\n",
       "      <td>2.2</td>\n",
       "      <td>3.6</td>\n",
       "      <td>3.4</td>\n",
       "      <td>0.000</td>\n",
       "      <td>3.45</td>\n",
       "      <td>3.05</td>\n",
       "      <td>0.561</td>\n",
       "    </tr>\n",
       "    <tr>\n",
       "      <th>2</th>\n",
       "      <td>1982</td>\n",
       "      <td>Mark Aguirre</td>\n",
       "      <td>SF</td>\n",
       "      <td>22</td>\n",
       "      <td>DAL</td>\n",
       "      <td>51</td>\n",
       "      <td>20</td>\n",
       "      <td>28.8</td>\n",
       "      <td>7.5</td>\n",
       "      <td>16.1</td>\n",
       "      <td>...</td>\n",
       "      <td>1.9</td>\n",
       "      <td>0.061</td>\n",
       "      <td>2.3</td>\n",
       "      <td>-1.6</td>\n",
       "      <td>0.7</td>\n",
       "      <td>1.0</td>\n",
       "      <td>0.000</td>\n",
       "      <td>-4.43</td>\n",
       "      <td>-4.48</td>\n",
       "      <td>0.341</td>\n",
       "    </tr>\n",
       "    <tr>\n",
       "      <th>3</th>\n",
       "      <td>1982</td>\n",
       "      <td>Danny Ainge</td>\n",
       "      <td>SG</td>\n",
       "      <td>22</td>\n",
       "      <td>BOS</td>\n",
       "      <td>53</td>\n",
       "      <td>1</td>\n",
       "      <td>10.6</td>\n",
       "      <td>1.5</td>\n",
       "      <td>4.2</td>\n",
       "      <td>...</td>\n",
       "      <td>0.5</td>\n",
       "      <td>0.042</td>\n",
       "      <td>-3.7</td>\n",
       "      <td>1.0</td>\n",
       "      <td>-2.7</td>\n",
       "      <td>-0.1</td>\n",
       "      <td>0.000</td>\n",
       "      <td>6.38</td>\n",
       "      <td>6.35</td>\n",
       "      <td>0.768</td>\n",
       "    </tr>\n",
       "    <tr>\n",
       "      <th>4</th>\n",
       "      <td>1982</td>\n",
       "      <td>Tiny Archibald</td>\n",
       "      <td>PG</td>\n",
       "      <td>33</td>\n",
       "      <td>BOS</td>\n",
       "      <td>68</td>\n",
       "      <td>51</td>\n",
       "      <td>31.9</td>\n",
       "      <td>4.5</td>\n",
       "      <td>9.6</td>\n",
       "      <td>...</td>\n",
       "      <td>5.2</td>\n",
       "      <td>0.115</td>\n",
       "      <td>1.4</td>\n",
       "      <td>-1.3</td>\n",
       "      <td>0.1</td>\n",
       "      <td>1.1</td>\n",
       "      <td>0.000</td>\n",
       "      <td>6.38</td>\n",
       "      <td>6.35</td>\n",
       "      <td>0.768</td>\n",
       "    </tr>\n",
       "  </tbody>\n",
       "</table>\n",
       "<p>5 rows × 55 columns</p>\n",
       "</div>"
      ],
      "text/plain": [
       "   season               player pos  age team_id   g  gs  mp_per_g  fg_per_g  \\\n",
       "0    1982  Kareem Abdul-Jabbar   C   34     LAL  76  76      35.2       9.9   \n",
       "1    1982          Alvan Adams   C   27     PHO  79  75      30.3       6.4   \n",
       "2    1982         Mark Aguirre  SF   22     DAL  51  20      28.8       7.5   \n",
       "3    1982          Danny Ainge  SG   22     BOS  53   1      10.6       1.5   \n",
       "4    1982       Tiny Archibald  PG   33     BOS  68  51      31.9       4.5   \n",
       "\n",
       "   fga_per_g  ...    ws  ws_per_48  obpm  dbpm  bpm  vorp  award_share   mov  \\\n",
       "0       17.1  ...  10.7      0.192   3.8   1.2  5.0   4.7        0.045  4.87   \n",
       "1       13.0  ...   7.2      0.144   1.4   2.2  3.6   3.4        0.000  3.45   \n",
       "2       16.1  ...   1.9      0.061   2.3  -1.6  0.7   1.0        0.000 -4.43   \n",
       "3        4.2  ...   0.5      0.042  -3.7   1.0 -2.7  -0.1        0.000  6.38   \n",
       "4        9.6  ...   5.2      0.115   1.4  -1.3  0.1   1.1        0.000  6.38   \n",
       "\n",
       "   mov_adj  win_loss_pct  \n",
       "0     4.37         0.695  \n",
       "1     3.05         0.561  \n",
       "2    -4.48         0.341  \n",
       "3     6.35         0.768  \n",
       "4     6.35         0.768  \n",
       "\n",
       "[5 rows x 55 columns]"
      ]
     },
     "execution_count": 2,
     "metadata": {},
     "output_type": "execute_result"
    }
   ],
   "source": [
    "Players_data = PlayersData(path='Data/NBA_Dataset.csv')\n",
    "\n",
    "print('Shape of raw data: ', Players_data.raw_data.shape)\n",
    "\n",
    "Players_data.raw_data.head()"
   ]
  },
  {
   "cell_type": "code",
   "execution_count": 3,
   "metadata": {},
   "outputs": [
    {
     "name": "stdout",
     "output_type": "stream",
     "text": [
      "Shape of data with eligible players:  (1700, 56)\n"
     ]
    },
    {
     "data": {
      "text/html": [
       "<div>\n",
       "<style scoped>\n",
       "    .dataframe tbody tr th:only-of-type {\n",
       "        vertical-align: middle;\n",
       "    }\n",
       "\n",
       "    .dataframe tbody tr th {\n",
       "        vertical-align: top;\n",
       "    }\n",
       "\n",
       "    .dataframe thead th {\n",
       "        text-align: right;\n",
       "    }\n",
       "</style>\n",
       "<table border=\"1\" class=\"dataframe\">\n",
       "  <thead>\n",
       "    <tr style=\"text-align: right;\">\n",
       "      <th></th>\n",
       "      <th>index</th>\n",
       "      <th>season</th>\n",
       "      <th>player</th>\n",
       "      <th>pos</th>\n",
       "      <th>age</th>\n",
       "      <th>team_id</th>\n",
       "      <th>g</th>\n",
       "      <th>gs</th>\n",
       "      <th>mp_per_g</th>\n",
       "      <th>fg_per_g</th>\n",
       "      <th>...</th>\n",
       "      <th>ws</th>\n",
       "      <th>ws_per_48</th>\n",
       "      <th>obpm</th>\n",
       "      <th>dbpm</th>\n",
       "      <th>bpm</th>\n",
       "      <th>vorp</th>\n",
       "      <th>award_share</th>\n",
       "      <th>mov</th>\n",
       "      <th>mov_adj</th>\n",
       "      <th>win_loss_pct</th>\n",
       "    </tr>\n",
       "  </thead>\n",
       "  <tbody>\n",
       "    <tr>\n",
       "      <th>0</th>\n",
       "      <td>0</td>\n",
       "      <td>1982</td>\n",
       "      <td>Kareem Abdul-Jabbar</td>\n",
       "      <td>0</td>\n",
       "      <td>34</td>\n",
       "      <td>LAL</td>\n",
       "      <td>76</td>\n",
       "      <td>76</td>\n",
       "      <td>35.2</td>\n",
       "      <td>9.9</td>\n",
       "      <td>...</td>\n",
       "      <td>10.7</td>\n",
       "      <td>0.192</td>\n",
       "      <td>3.8</td>\n",
       "      <td>1.2</td>\n",
       "      <td>5.0</td>\n",
       "      <td>4.7</td>\n",
       "      <td>0.045</td>\n",
       "      <td>4.87</td>\n",
       "      <td>4.37</td>\n",
       "      <td>0.695</td>\n",
       "    </tr>\n",
       "    <tr>\n",
       "      <th>1</th>\n",
       "      <td>1</td>\n",
       "      <td>1982</td>\n",
       "      <td>Alvan Adams</td>\n",
       "      <td>0</td>\n",
       "      <td>27</td>\n",
       "      <td>PHO</td>\n",
       "      <td>79</td>\n",
       "      <td>75</td>\n",
       "      <td>30.3</td>\n",
       "      <td>6.4</td>\n",
       "      <td>...</td>\n",
       "      <td>7.2</td>\n",
       "      <td>0.144</td>\n",
       "      <td>1.4</td>\n",
       "      <td>2.2</td>\n",
       "      <td>3.6</td>\n",
       "      <td>3.4</td>\n",
       "      <td>0.000</td>\n",
       "      <td>3.45</td>\n",
       "      <td>3.05</td>\n",
       "      <td>0.561</td>\n",
       "    </tr>\n",
       "    <tr>\n",
       "      <th>2</th>\n",
       "      <td>8</td>\n",
       "      <td>1982</td>\n",
       "      <td>Greg Ballard</td>\n",
       "      <td>1</td>\n",
       "      <td>27</td>\n",
       "      <td>WSB</td>\n",
       "      <td>79</td>\n",
       "      <td>79</td>\n",
       "      <td>37.3</td>\n",
       "      <td>7.9</td>\n",
       "      <td>...</td>\n",
       "      <td>9.4</td>\n",
       "      <td>0.154</td>\n",
       "      <td>1.5</td>\n",
       "      <td>1.7</td>\n",
       "      <td>3.2</td>\n",
       "      <td>3.9</td>\n",
       "      <td>0.000</td>\n",
       "      <td>0.88</td>\n",
       "      <td>1.06</td>\n",
       "      <td>0.524</td>\n",
       "    </tr>\n",
       "    <tr>\n",
       "      <th>3</th>\n",
       "      <td>14</td>\n",
       "      <td>1982</td>\n",
       "      <td>Larry Bird</td>\n",
       "      <td>2</td>\n",
       "      <td>25</td>\n",
       "      <td>BOS</td>\n",
       "      <td>77</td>\n",
       "      <td>58</td>\n",
       "      <td>38.0</td>\n",
       "      <td>9.2</td>\n",
       "      <td>...</td>\n",
       "      <td>12.5</td>\n",
       "      <td>0.205</td>\n",
       "      <td>4.4</td>\n",
       "      <td>2.3</td>\n",
       "      <td>6.6</td>\n",
       "      <td>6.4</td>\n",
       "      <td>0.588</td>\n",
       "      <td>6.38</td>\n",
       "      <td>6.35</td>\n",
       "      <td>0.768</td>\n",
       "    </tr>\n",
       "    <tr>\n",
       "      <th>4</th>\n",
       "      <td>60</td>\n",
       "      <td>1982</td>\n",
       "      <td>Adrian Dantley</td>\n",
       "      <td>1</td>\n",
       "      <td>26</td>\n",
       "      <td>UTA</td>\n",
       "      <td>81</td>\n",
       "      <td>81</td>\n",
       "      <td>39.8</td>\n",
       "      <td>11.2</td>\n",
       "      <td>...</td>\n",
       "      <td>12.6</td>\n",
       "      <td>0.187</td>\n",
       "      <td>5.8</td>\n",
       "      <td>-1.7</td>\n",
       "      <td>4.1</td>\n",
       "      <td>5.0</td>\n",
       "      <td>0.010</td>\n",
       "      <td>-5.66</td>\n",
       "      <td>-5.63</td>\n",
       "      <td>0.305</td>\n",
       "    </tr>\n",
       "  </tbody>\n",
       "</table>\n",
       "<p>5 rows × 56 columns</p>\n",
       "</div>"
      ],
      "text/plain": [
       "   index  season               player  pos  age team_id   g  gs  mp_per_g  \\\n",
       "0      0    1982  Kareem Abdul-Jabbar    0   34     LAL  76  76      35.2   \n",
       "1      1    1982          Alvan Adams    0   27     PHO  79  75      30.3   \n",
       "2      8    1982         Greg Ballard    1   27     WSB  79  79      37.3   \n",
       "3     14    1982           Larry Bird    2   25     BOS  77  58      38.0   \n",
       "4     60    1982       Adrian Dantley    1   26     UTA  81  81      39.8   \n",
       "\n",
       "   fg_per_g  ...    ws  ws_per_48  obpm  dbpm  bpm  vorp  award_share   mov  \\\n",
       "0       9.9  ...  10.7      0.192   3.8   1.2  5.0   4.7        0.045  4.87   \n",
       "1       6.4  ...   7.2      0.144   1.4   2.2  3.6   3.4        0.000  3.45   \n",
       "2       7.9  ...   9.4      0.154   1.5   1.7  3.2   3.9        0.000  0.88   \n",
       "3       9.2  ...  12.5      0.205   4.4   2.3  6.6   6.4        0.588  6.38   \n",
       "4      11.2  ...  12.6      0.187   5.8  -1.7  4.1   5.0        0.010 -5.66   \n",
       "\n",
       "   mov_adj  win_loss_pct  \n",
       "0     4.37         0.695  \n",
       "1     3.05         0.561  \n",
       "2     1.06         0.524  \n",
       "3     6.35         0.768  \n",
       "4    -5.63         0.305  \n",
       "\n",
       "[5 rows x 56 columns]"
      ]
     },
     "execution_count": 3,
     "metadata": {},
     "output_type": "execute_result"
    }
   ],
   "source": [
    "print('Shape of data with eligible players: ', Players_data.eligible_players_data.shape)\n",
    "\n",
    "Players_data.eligible_players_data.head()"
   ]
  },
  {
   "cell_type": "code",
   "execution_count": 4,
   "metadata": {},
   "outputs": [
    {
     "data": {
      "text/plain": [
       "<Axes: title={'center': 'Missing map'}>"
      ]
     },
     "execution_count": 4,
     "metadata": {},
     "output_type": "execute_result"
    },
    {
     "data": {
      "image/png": "[encoded data removed]",
      "text/plain": [
       "<Figure size 640x480 with 2 Axes>"
      ]
     },
     "metadata": {},
     "output_type": "display_data"
    }
   ],
   "source": [
    "plt.title('Missing map')\n",
    "sns.heatmap(Players_data.eligible_players_data.isnull())"
   ]
  },
  {
   "cell_type": "markdown",
   "metadata": {},
   "source": [
    "**Nan values**\n",
    "\n",
    "Some players have Nan values their average percentage for some very specific shots: maybe they did not got the opportunity to take them or maybe they just never take them. But we cannot put 0 to try not to bias the selection and putting the mean will also advantage two much one player also. So we will use KNN algorithm to try to fill the values by looking at neighboors.\n",
    "\n",
    "**Encoding**\n",
    "\n",
    "We are not going to keep the team of the player because we want our system to be the fairest and not be biased by external factors like the attrcativity of a team, or the size of the team's market.\n",
    "So the only categorical variable left at the end his the position so since we are working on a Decision tree, we used label encoding rather than one hot encoding.\n",
    "\n",
    "**Scaling**\n",
    "\n",
    "No scaling is needed for the preprocessing of a decision tree.\n",
    "\n",
    "**Splitting the dataset**\n",
    "\n",
    "We will randomly select 5 season including 2022 to test our model on the most recent on the database and that also brought a lot of debates."
   ]
  },
  {
   "cell_type": "code",
   "execution_count": 5,
   "metadata": {},
   "outputs": [
    {
     "name": "stdout",
     "output_type": "stream",
     "text": [
      "years selected to test our model : [2019 1985 2009 2011 2022]\n"
     ]
    }
   ],
   "source": [
    "X_train_reg, y_train_reg, X_test_reg, y_test_reg, years_selected_for_test, imputer,_,df_train  = Players_data.get_splitted_data_for_regression(year_test_regression=np.array([2019,1985,2009,2011,2022]))\n",
    "\n",
    "print('years selected to test our model :', years_selected_for_test)"
   ]
  },
  {
   "cell_type": "markdown",
   "metadata": {},
   "source": [
    "### Grid search of the best parameters"
   ]
  },
  {
   "cell_type": "code",
   "execution_count": 6,
   "metadata": {},
   "outputs": [
    {
     "name": "stdout",
     "output_type": "stream",
     "text": [
      "Best Parameters:  {'max_depth': 5, 'min_samples_leaf': 1, 'min_samples_split': 2}\n"
     ]
    }
   ],
   "source": [
    "# Define the Decision Tree regressor\n",
    "dt_regressor = DecisionTreeRegressor()\n",
    "\n",
    "# Define the parameter grid to search\n",
    "param_grid = {\n",
    "    'max_depth': [None, 5, 10, 15],\n",
    "    'min_samples_split': [2, 5, 10],\n",
    "    'min_samples_leaf': [1, 2, 4]\n",
    "}\n",
    "\n",
    "# Create a GridSearchCV object\n",
    "grid_search = GridSearchCV(dt_regressor, param_grid, cv=5, scoring='neg_mean_squared_error')\n",
    "\n",
    "grid_search.fit(X_train_reg, y_train_reg)\n",
    "\n",
    "print(\"Best Parameters: \", grid_search.best_params_)"
   ]
  },
  {
   "cell_type": "code",
   "execution_count": 7,
   "metadata": {},
   "outputs": [
    {
     "name": "stdout",
     "output_type": "stream",
     "text": [
      "Training Mean Absolute Error: 0.033574682764579165\n",
      "Training Mean Squarred Error: 0.006378288871737745\n",
      "Training R2 score: 0.8073166399040675\n"
     ]
    }
   ],
   "source": [
    "model_decision_tree = train_decision_tree(\n",
    "    X_train=X_train_reg,\n",
    "    y_train=y_train_reg,\n",
    "    **grid_search.best_params_\n",
    ")"
   ]
  },
  {
   "cell_type": "code",
   "execution_count": 8,
   "metadata": {},
   "outputs": [
    {
     "name": "stdout",
     "output_type": "stream",
     "text": [
      "Mean Absolute Error: 0.04754813364247876\n",
      "Mean Squarred Error: 0.0143941811063407\n",
      "R2 score: 0.5594106844941574\n"
     ]
    },
    {
     "data": {
      "text/html": [
       "<div>\n",
       "<style scoped>\n",
       "    .dataframe tbody tr th:only-of-type {\n",
       "        vertical-align: middle;\n",
       "    }\n",
       "\n",
       "    .dataframe tbody tr th {\n",
       "        vertical-align: top;\n",
       "    }\n",
       "\n",
       "    .dataframe thead th {\n",
       "        text-align: right;\n",
       "    }\n",
       "</style>\n",
       "<table border=\"1\" class=\"dataframe\">\n",
       "  <thead>\n",
       "    <tr style=\"text-align: right;\">\n",
       "      <th></th>\n",
       "      <th>MSE</th>\n",
       "      <th>MAE</th>\n",
       "      <th>R2 Score</th>\n",
       "    </tr>\n",
       "  </thead>\n",
       "  <tbody>\n",
       "    <tr>\n",
       "      <th>Decision Tree</th>\n",
       "      <td>0.014394</td>\n",
       "      <td>0.047548</td>\n",
       "      <td>0.559411</td>\n",
       "    </tr>\n",
       "  </tbody>\n",
       "</table>\n",
       "</div>"
      ],
      "text/plain": [
       "                    MSE       MAE  R2 Score\n",
       "Decision Tree  0.014394  0.047548  0.559411"
      ]
     },
     "execution_count": 8,
     "metadata": {},
     "output_type": "execute_result"
    }
   ],
   "source": [
    "df_of_result = evaluate_regression_model(model_decision_tree, X_test_reg, y_test_reg, name='Decision Tree')\n",
    "df_of_result.head()"
   ]
  },
  {
   "cell_type": "code",
   "execution_count": 9,
   "metadata": {},
   "outputs": [
    {
     "name": "stdout",
     "output_type": "stream",
     "text": [
      "Testing at predicting the NBA MVP for the 5 test years selected with Decision Tree\n",
      "MVP Classifaction measured Accuracy :  60.0 %\n"
     ]
    }
   ],
   "source": [
    "print('Testing at predicting the NBA MVP for the 5 test years selected with Decision Tree')\n",
    "df_with_result_mvp = evaluate_MVP_classification_from_regression(model_decision_tree, X_test_reg, df_train, 'decision tree','mvp_classificatioon_by_decsion_tree.txt')"
   ]
  },
  {
   "cell_type": "markdown",
   "metadata": {},
   "source": [
    "## Random forest\n",
    "\n",
    "- **Ensemble Learning:** Random Forest combines multiple decision trees to improve overall predictive accuracy and generalization.\n",
    "\n",
    "- **Robust to Overfitting:** Aggregation of trees helps mitigate overfitting, providing a more robust model for MVP prediction.\n",
    "\n",
    "- **Feature Importance:** Automatically ranks features, aiding in the identification of crucial statistics for determining MVP status.\n",
    "\n",
    "- **Non-linearity Handling:** Flexible enough to capture non-linear relationships in player statistics, offering superior performance to linear models."
   ]
  },
  {
   "cell_type": "code",
   "execution_count": 10,
   "metadata": {},
   "outputs": [],
   "source": [
    "from sklearn.model_selection import RandomizedSearchCV\n",
    "# Number of trees in random forest\n",
    "n_estimators = [int(x) for x in np.linspace(start = 200, stop = 2000, num = 10)]\n",
    "# Number of features to consider at every split\n",
    "max_features = ['auto', 'sqrt']\n",
    "# Maximum number of levels in tree\n",
    "max_depth = [int(x) for x in np.linspace(10, 100, num = 10)]\n",
    "max_depth.append(None)\n",
    "# Minimum number of samples required to split a node\n",
    "min_samples_split = [2, 5, 10]\n",
    "# Minimum number of samples required at each leaf node\n",
    "min_samples_leaf = [1, 2, 4]\n",
    "# Method of selecting samples for training each tree\n",
    "bootstrap = [True, False]\n",
    "# Create the random grid\n",
    "random_grid = {'n_estimators': n_estimators,\n",
    "               'max_features': max_features,\n",
    "               'max_depth': max_depth,\n",
    "               'min_samples_split': min_samples_split,\n",
    "               'min_samples_leaf': min_samples_leaf,\n",
    "               'bootstrap': bootstrap}"
   ]
  },
  {
   "cell_type": "code",
   "execution_count": 11,
   "metadata": {
    "tags": []
   },
   "outputs": [
    {
     "name": "stdout",
     "output_type": "stream",
     "text": [
      "{'n_estimators': 400, 'min_samples_split': 2, 'min_samples_leaf': 2, 'max_features': 'sqrt', 'max_depth': 80, 'bootstrap': False}\n"
     ]
    }
   ],
   "source": [
    "\n",
    "rf = RandomForestRegressor()\n",
    "# Random search of parameters, using 3 fold cross validation, \n",
    "# search across 100 different combinations, and use all available cores\n",
    "rf_random = RandomizedSearchCV(estimator = rf, param_distributions = random_grid, n_iter = 100, cv = 3, random_state=42, n_jobs = -1)\n",
    "# Fit the random search model\n",
    "rf_random.fit(X_train_reg, y_train_reg)\n",
    "\n",
    "print(rf_random.best_params_)"
   ]
  },
  {
   "cell_type": "code",
   "execution_count": 12,
   "metadata": {},
   "outputs": [
    {
     "name": "stdout",
     "output_type": "stream",
     "text": [
      "Training Mean Absolute Error: 0.006684526221021833\n",
      "Training Mean Squarred Error: 0.000347957395678596\n",
      "Training R2 score: 0.9894884660262627\n"
     ]
    }
   ],
   "source": [
    "model_random_forest = train_random_forest(X_train_reg,y_train_reg, **rf_random.best_params_)"
   ]
  },
  {
   "cell_type": "code",
   "execution_count": 13,
   "metadata": {},
   "outputs": [
    {
     "name": "stdout",
     "output_type": "stream",
     "text": [
      "Mean Absolute Error: 0.03648162671232878\n",
      "Mean Squarred Error: 0.00772914260511717\n",
      "R2 score: 0.7634198413457828\n"
     ]
    },
    {
     "data": {
      "text/html": [
       "<div>\n",
       "<style scoped>\n",
       "    .dataframe tbody tr th:only-of-type {\n",
       "        vertical-align: middle;\n",
       "    }\n",
       "\n",
       "    .dataframe tbody tr th {\n",
       "        vertical-align: top;\n",
       "    }\n",
       "\n",
       "    .dataframe thead th {\n",
       "        text-align: right;\n",
       "    }\n",
       "</style>\n",
       "<table border=\"1\" class=\"dataframe\">\n",
       "  <thead>\n",
       "    <tr style=\"text-align: right;\">\n",
       "      <th></th>\n",
       "      <th>MSE</th>\n",
       "      <th>MAE</th>\n",
       "      <th>R2 Score</th>\n",
       "    </tr>\n",
       "  </thead>\n",
       "  <tbody>\n",
       "    <tr>\n",
       "      <th>Random Forest</th>\n",
       "      <td>0.007729</td>\n",
       "      <td>0.036482</td>\n",
       "      <td>0.763420</td>\n",
       "    </tr>\n",
       "    <tr>\n",
       "      <th>Decision Tree</th>\n",
       "      <td>0.014394</td>\n",
       "      <td>0.047548</td>\n",
       "      <td>0.559411</td>\n",
       "    </tr>\n",
       "  </tbody>\n",
       "</table>\n",
       "</div>"
      ],
      "text/plain": [
       "                    MSE       MAE  R2 Score\n",
       "Random Forest  0.007729  0.036482  0.763420\n",
       "Decision Tree  0.014394  0.047548  0.559411"
      ]
     },
     "execution_count": 13,
     "metadata": {},
     "output_type": "execute_result"
    }
   ],
   "source": [
    "df_of_result = evaluate_regression_model(model_random_forest, X_test_reg, y_test_reg, df_of_result, name='Random Forest')\n",
    "df_of_result.head()"
   ]
  },
  {
   "cell_type": "code",
   "execution_count": 14,
   "metadata": {},
   "outputs": [
    {
     "name": "stdout",
     "output_type": "stream",
     "text": [
      "Testing at predicting the NBA MVP for the 5 test years selected with Random Forest\n",
      "MVP Classifaction measured Accuracy :  80.0 %\n"
     ]
    }
   ],
   "source": [
    "print('Testing at predicting the NBA MVP for the 5 test years selected with Random Forest')\n",
    "df_with_result_mvp = evaluate_MVP_classification_from_regression(model_random_forest, X_test_reg, df_train, 'Random Forest','mvp_classificatioon_by_decsion_tree.txt')"
   ]
  },
  {
   "cell_type": "markdown",
   "metadata": {},
   "source": [
    "# CNN\n",
    "\n",
    "- **Image-like Data Handling:** CNNs excel in processing grid-like data, making them suitable for analyzing patterns in structured player statistics.\n",
    "\n",
    "- **Hierarchical Feature Learning:** CNNs automatically learn hierarchical representations, allowing the model to capture complex relationships within the data.\n",
    "\n",
    "- **Spatial Relationships:** Effective in capturing spatial relationships between different statistics, providing insights into how various metrics interact.\n",
    "\n",
    "- **Transfer Learning Opportunities:** Pre-trained CNN models can be leveraged, especially if there's a shortage of labeled MVP data, allowing for better model generalization.\n"
   ]
  },
  {
   "cell_type": "code",
   "execution_count": 15,
   "metadata": {},
   "outputs": [],
   "source": [
    "import tensorflow as tf\n",
    "from sklearn.model_selection import train_test_split\n",
    "from sklearn.preprocessing import StandardScaler\n",
    "\n",
    "X, y, X_test, y_test, players_list_train, players_list_test,  years_for_test, nan_imputer, scaler_dl, onehotencoder = Players_data.get_splitted_data_for_dl(years_for_test=years_selected_for_test, multiplier_of_data=30)\n",
    "\n",
    "X_train, X_val, y_train, y_val = train_test_split(X, y, test_size=0.2, random_state=42)"
   ]
  },
  {
   "cell_type": "code",
   "execution_count": 16,
   "metadata": {},
   "outputs": [],
   "source": [
    "num_features = X_train.shape[2]\n",
    "num_players = 10\n",
    "\n",
    "# Build the model\n",
    "model = tf.keras.Sequential([\n",
    "    tf.keras.layers.Conv2D(64, kernel_size=(3,num_features-2), activation='relu', input_shape=(num_players, num_features, 1)),\n",
    "    tf.keras.layers.MaxPooling2D(pool_size=(2,1)),\n",
    "    tf.keras.layers.Flatten(),\n",
    "    tf.keras.layers.Dense(32, activation='relu'),\n",
    "    tf.keras.layers.Dense(num_players, activation='sigmoid') \n",
    "])\n",
    "\n",
    "model.compile(optimizer='adam', loss='binary_crossentropy', metrics=['accuracy'])\n",
    "\n",
    "history = model.fit(X_train, y_train, epochs=150, validation_data=(X_val, y_val), verbose=0)"
   ]
  },
  {
   "cell_type": "code",
   "execution_count": 17,
   "metadata": {},
   "outputs": [
    {
     "data": {
      "image/png": "[encoded data removed]",
      "text/plain": [
       "<Figure size 1200x600 with 2 Axes>"
      ]
     },
     "metadata": {},
     "output_type": "display_data"
    }
   ],
   "source": [
    "import matplotlib.pyplot as plt\n",
    "\n",
    "# Plot training and validation loss\n",
    "plt.figure(figsize=(12, 6))\n",
    "\n",
    "# Plot training & validation loss values\n",
    "plt.subplot(1, 2, 1)\n",
    "plt.plot(history.history['loss'])\n",
    "plt.plot(history.history['val_loss'])\n",
    "plt.title('Model Loss')\n",
    "plt.xlabel('Epoch')\n",
    "plt.ylabel('Loss')\n",
    "plt.legend(['Train', 'Validation'], loc='upper right')\n",
    "\n",
    "# Plot training & validation accuracy values\n",
    "plt.subplot(1, 2, 2)\n",
    "plt.plot(history.history['accuracy'])\n",
    "plt.plot(history.history['val_accuracy'])\n",
    "plt.title('Model Accuracy')\n",
    "plt.xlabel('Epoch')\n",
    "plt.ylabel('Accuracy')\n",
    "plt.legend(['Train', 'Validation'], loc='lower right')\n",
    "\n",
    "plt.show()"
   ]
  },
  {
   "cell_type": "markdown",
   "metadata": {},
   "source": [
    "70 epochs seems well enough and good pooint to avoid overfitting."
   ]
  },
  {
   "cell_type": "code",
   "execution_count": 18,
   "metadata": {},
   "outputs": [
    {
     "name": "stderr",
     "output_type": "stream",
     "text": [
      "WARNING:absl:At this time, the v2.11+ optimizer `tf.keras.optimizers.Adam` runs slowly on M1/M2 Macs, please use the legacy Keras optimizer instead, located at `tf.keras.optimizers.legacy.Adam`.\n"
     ]
    },
    {
     "name": "stdout",
     "output_type": "stream",
     "text": [
      "28/28 [==============================] - 0s 805us/step - loss: 0.1152 - accuracy: 0.8285\n",
      "7/7 [==============================] - 0s 953us/step - loss: 0.1170 - accuracy: 0.8214\n",
      "5/5 [==============================] - 0s 1ms/step - loss: 0.1758 - accuracy: 0.6516\n",
      "Train --  Accuracy: 0.8284753561019897, Loss: 0.1152355745434761\n",
      "Validation --  Accuracy: 0.8214285969734192, Loss: 0.11702845990657806\n",
      "Test --  Accuracy: 0.6516128778457642, Loss: 0.17584164440631866\n"
     ]
    }
   ],
   "source": [
    "model_cnn = train_cnn(X, y, num_epochs=60, verbose = 0)\n",
    "\n",
    "train_loss, train_accuracy = model_cnn.evaluate(X_train, y_train)\n",
    "val_loss, val_accuracy = model_cnn.evaluate(X_val, y_val)\n",
    "test_loss, test_accuracy = model_cnn.evaluate(X_test, y_test)\n",
    "print(f'Train --  Accuracy: {train_accuracy}, Loss: {train_loss}')\n",
    "print(f'Validation --  Accuracy: {val_accuracy}, Loss: {val_loss}')\n",
    "print(f'Test --  Accuracy: {test_accuracy}, Loss: {test_loss}')"
   ]
  },
  {
   "cell_type": "code",
   "execution_count": 19,
   "metadata": {},
   "outputs": [
    {
     "data": {
      "text/plain": [
       "(892, 10, 56, 1)"
      ]
     },
     "execution_count": 19,
     "metadata": {},
     "output_type": "execute_result"
    }
   ],
   "source": [
    "X_train.shape"
   ]
  },
  {
   "cell_type": "code",
   "execution_count": 20,
   "metadata": {},
   "outputs": [
    {
     "name": "stdout",
     "output_type": "stream",
     "text": [
      "Testing at predicting the NBA MVP for the 5 test years selected with CNN\n",
      "5/5 [==============================] - 0s 1ms/step\n",
      "MVP Classification Accuracy :\n",
      "Accuracy: 65.359%\n",
      "\n"
     ]
    }
   ],
   "source": [
    "print('Testing at predicting the NBA MVP for the 5 test years selected with CNN')\n",
    "y_pred, evaluation_results = evaluate_cnn_model(model_cnn,  X_test, y_test, players_list_test, df_of_result, 'output/output_cnn.txt', 'CNN')"
   ]
  },
  {
   "cell_type": "code",
   "execution_count": 21,
   "metadata": {},
   "outputs": [
    {
     "data": {
      "text/html": [
       "<div>\n",
       "<style scoped>\n",
       "    .dataframe tbody tr th:only-of-type {\n",
       "        vertical-align: middle;\n",
       "    }\n",
       "\n",
       "    .dataframe tbody tr th {\n",
       "        vertical-align: top;\n",
       "    }\n",
       "\n",
       "    .dataframe thead th {\n",
       "        text-align: right;\n",
       "    }\n",
       "</style>\n",
       "<table border=\"1\" class=\"dataframe\">\n",
       "  <thead>\n",
       "    <tr style=\"text-align: right;\">\n",
       "      <th></th>\n",
       "      <th>MSE</th>\n",
       "      <th>MAE</th>\n",
       "      <th>R2 Score</th>\n",
       "    </tr>\n",
       "  </thead>\n",
       "  <tbody>\n",
       "    <tr>\n",
       "      <th>CNN</th>\n",
       "      <td>0.053080</td>\n",
       "      <td>0.096192</td>\n",
       "      <td>0.219829</td>\n",
       "    </tr>\n",
       "    <tr>\n",
       "      <th>Random Forest</th>\n",
       "      <td>0.007729</td>\n",
       "      <td>0.036482</td>\n",
       "      <td>0.763420</td>\n",
       "    </tr>\n",
       "    <tr>\n",
       "      <th>Decision Tree</th>\n",
       "      <td>0.014394</td>\n",
       "      <td>0.047548</td>\n",
       "      <td>0.559411</td>\n",
       "    </tr>\n",
       "  </tbody>\n",
       "</table>\n",
       "</div>"
      ],
      "text/plain": [
       "                    MSE       MAE  R2 Score\n",
       "CNN            0.053080  0.096192  0.219829\n",
       "Random Forest  0.007729  0.036482  0.763420\n",
       "Decision Tree  0.014394  0.047548  0.559411"
      ]
     },
     "execution_count": 21,
     "metadata": {},
     "output_type": "execute_result"
    }
   ],
   "source": [
    "evaluation_results"
   ]
  },
  {
   "cell_type": "markdown",
   "metadata": {},
   "source": [
    "# Predicting 2023-24 NBA MVP"
   ]
  },
  {
   "cell_type": "markdown",
   "metadata": {},
   "source": [
    "Now that all model have been trained will put them in application using today stats gathered from Basketball reference."
   ]
  },
  {
   "cell_type": "code",
   "execution_count": 22,
   "metadata": {},
   "outputs": [
    {
     "name": "stdout",
     "output_type": "stream",
     "text": [
      "\n",
      " ----- Scrape Players stats from basketball-reference.com -----\n",
      " \n"
     ]
    },
    {
     "data": {
      "text/html": [
       "<div>\n",
       "<style scoped>\n",
       "    .dataframe tbody tr th:only-of-type {\n",
       "        vertical-align: middle;\n",
       "    }\n",
       "\n",
       "    .dataframe tbody tr th {\n",
       "        vertical-align: top;\n",
       "    }\n",
       "\n",
       "    .dataframe thead th {\n",
       "        text-align: right;\n",
       "    }\n",
       "</style>\n",
       "<table border=\"1\" class=\"dataframe\">\n",
       "  <thead>\n",
       "    <tr style=\"text-align: right;\">\n",
       "      <th></th>\n",
       "      <th>player</th>\n",
       "      <th>pos</th>\n",
       "      <th>age</th>\n",
       "      <th>team_id</th>\n",
       "      <th>g</th>\n",
       "      <th>gs</th>\n",
       "      <th>mp_per_g</th>\n",
       "      <th>fg_per_g</th>\n",
       "      <th>fga_per_g</th>\n",
       "      <th>fg_pct</th>\n",
       "      <th>...</th>\n",
       "      <th>dws</th>\n",
       "      <th>ws</th>\n",
       "      <th>ws_per_48</th>\n",
       "      <th>obpm</th>\n",
       "      <th>dbpm</th>\n",
       "      <th>bpm</th>\n",
       "      <th>vorp</th>\n",
       "      <th>mov</th>\n",
       "      <th>mov_adj</th>\n",
       "      <th>win_loss_pct</th>\n",
       "    </tr>\n",
       "  </thead>\n",
       "  <tbody>\n",
       "    <tr>\n",
       "      <th>0</th>\n",
       "      <td>Precious Achiuwa</td>\n",
       "      <td>2</td>\n",
       "      <td>24.0</td>\n",
       "      <td>TOT</td>\n",
       "      <td>73.0</td>\n",
       "      <td>20.0</td>\n",
       "      <td>22.7</td>\n",
       "      <td>3.4</td>\n",
       "      <td>6.7</td>\n",
       "      <td>0.509</td>\n",
       "      <td>...</td>\n",
       "      <td>2.343920</td>\n",
       "      <td>3.906534</td>\n",
       "      <td>0.111</td>\n",
       "      <td>-1.4</td>\n",
       "      <td>0.4</td>\n",
       "      <td>-1.0</td>\n",
       "      <td>0.4</td>\n",
       "      <td>NaN</td>\n",
       "      <td>NaN</td>\n",
       "      <td>NaN</td>\n",
       "    </tr>\n",
       "    <tr>\n",
       "      <th>1</th>\n",
       "      <td>Bam Adebayo</td>\n",
       "      <td>0</td>\n",
       "      <td>26.0</td>\n",
       "      <td>MIA</td>\n",
       "      <td>69.0</td>\n",
       "      <td>69.0</td>\n",
       "      <td>34.3</td>\n",
       "      <td>7.6</td>\n",
       "      <td>14.7</td>\n",
       "      <td>0.521</td>\n",
       "      <td>...</td>\n",
       "      <td>4.268493</td>\n",
       "      <td>7.076712</td>\n",
       "      <td>0.143</td>\n",
       "      <td>0.9</td>\n",
       "      <td>1.7</td>\n",
       "      <td>2.6</td>\n",
       "      <td>2.5</td>\n",
       "      <td>1.22</td>\n",
       "      <td>0.69</td>\n",
       "      <td>0.548</td>\n",
       "    </tr>\n",
       "    <tr>\n",
       "      <th>2</th>\n",
       "      <td>Ochai Agbaji</td>\n",
       "      <td>3</td>\n",
       "      <td>23.0</td>\n",
       "      <td>TOT</td>\n",
       "      <td>80.0</td>\n",
       "      <td>25.0</td>\n",
       "      <td>20.2</td>\n",
       "      <td>2.3</td>\n",
       "      <td>5.5</td>\n",
       "      <td>0.414</td>\n",
       "      <td>...</td>\n",
       "      <td>0.669691</td>\n",
       "      <td>0.334846</td>\n",
       "      <td>0.009</td>\n",
       "      <td>-3.3</td>\n",
       "      <td>-0.9</td>\n",
       "      <td>-4.2</td>\n",
       "      <td>-0.8</td>\n",
       "      <td>NaN</td>\n",
       "      <td>NaN</td>\n",
       "      <td>NaN</td>\n",
       "    </tr>\n",
       "    <tr>\n",
       "      <th>3</th>\n",
       "      <td>Santi Aldama</td>\n",
       "      <td>2</td>\n",
       "      <td>23.0</td>\n",
       "      <td>MEM</td>\n",
       "      <td>67.0</td>\n",
       "      <td>38.0</td>\n",
       "      <td>26.6</td>\n",
       "      <td>4.1</td>\n",
       "      <td>9.4</td>\n",
       "      <td>0.435</td>\n",
       "      <td>...</td>\n",
       "      <td>2.246575</td>\n",
       "      <td>2.583562</td>\n",
       "      <td>0.069</td>\n",
       "      <td>-0.7</td>\n",
       "      <td>0.4</td>\n",
       "      <td>-0.2</td>\n",
       "      <td>0.7</td>\n",
       "      <td>-6.97</td>\n",
       "      <td>-6.37</td>\n",
       "      <td>0.329</td>\n",
       "    </tr>\n",
       "    <tr>\n",
       "      <th>4</th>\n",
       "      <td>Nickeil Alexander-Walker</td>\n",
       "      <td>3</td>\n",
       "      <td>25.0</td>\n",
       "      <td>MIN</td>\n",
       "      <td>82.0</td>\n",
       "      <td>21.0</td>\n",
       "      <td>23.6</td>\n",
       "      <td>2.8</td>\n",
       "      <td>6.4</td>\n",
       "      <td>0.432</td>\n",
       "      <td>...</td>\n",
       "      <td>2.920548</td>\n",
       "      <td>4.156164</td>\n",
       "      <td>0.105</td>\n",
       "      <td>-1.3</td>\n",
       "      <td>1.5</td>\n",
       "      <td>0.2</td>\n",
       "      <td>0.9</td>\n",
       "      <td>6.82</td>\n",
       "      <td>6.82</td>\n",
       "      <td>0.699</td>\n",
       "    </tr>\n",
       "  </tbody>\n",
       "</table>\n",
       "<p>5 rows × 54 columns</p>\n",
       "</div>"
      ],
      "text/plain": [
       "                     player  pos   age team_id     g    gs  mp_per_g  \\\n",
       "0          Precious Achiuwa    2  24.0     TOT  73.0  20.0      22.7   \n",
       "1               Bam Adebayo    0  26.0     MIA  69.0  69.0      34.3   \n",
       "2              Ochai Agbaji    3  23.0     TOT  80.0  25.0      20.2   \n",
       "3              Santi Aldama    2  23.0     MEM  67.0  38.0      26.6   \n",
       "4  Nickeil Alexander-Walker    3  25.0     MIN  82.0  21.0      23.6   \n",
       "\n",
       "   fg_per_g  fga_per_g fg_pct  ...       dws        ws ws_per_48  obpm  dbpm  \\\n",
       "0       3.4        6.7  0.509  ...  2.343920  3.906534     0.111  -1.4   0.4   \n",
       "1       7.6       14.7  0.521  ...  4.268493  7.076712     0.143   0.9   1.7   \n",
       "2       2.3        5.5  0.414  ...  0.669691  0.334846     0.009  -3.3  -0.9   \n",
       "3       4.1        9.4  0.435  ...  2.246575  2.583562     0.069  -0.7   0.4   \n",
       "4       2.8        6.4  0.432  ...  2.920548  4.156164     0.105  -1.3   1.5   \n",
       "\n",
       "   bpm vorp   mov  mov_adj win_loss_pct  \n",
       "0 -1.0  0.4   NaN      NaN          NaN  \n",
       "1  2.6  2.5  1.22     0.69        0.548  \n",
       "2 -4.2 -0.8   NaN      NaN          NaN  \n",
       "3 -0.2  0.7 -6.97    -6.37        0.329  \n",
       "4  0.2  0.9  6.82     6.82        0.699  \n",
       "\n",
       "[5 rows x 54 columns]"
      ]
     },
     "execution_count": 22,
     "metadata": {},
     "output_type": "execute_result"
    }
   ],
   "source": [
    "from src.get_data_online import BaskRefPlayerDataScraper\n",
    "from src.PreProcessing import create_clean_dataset_for_test\n",
    "\n",
    "print('\\n ----- Scrape Players stats from basketball-reference.com -----\\n ')\n",
    "player_data_scraper = BaskRefPlayerDataScraper()\n",
    "game_data = player_data_scraper.scrape_table_data(\n",
    "    \"https://www.basketball-reference.com/leagues/NBA_2024_per_game.html#per_game_stats\", \n",
    "    'div_per_game_stats', \n",
    "    'full_table')\n",
    "\n",
    "advanced_data = player_data_scraper.scrape_table_data(\n",
    "    'https://www.basketball-reference.com/leagues/NBA_2024_advanced.html', \n",
    "    'div_advanced_stats', \n",
    "    'full_table')\n",
    "\n",
    "team_data = player_data_scraper.scrape_table_data(\n",
    "    'https://www.basketball-reference.com/leagues/NBA_2024_ratings.html', \n",
    "    'div_ratings')\n",
    "\n",
    "df2023 = create_clean_dataset_for_test(\n",
    "    game_data, \n",
    "    advanced_data, \n",
    "    team_data, \n",
    "    path_to_aggragation_team_json = 'Data/external/teams_abbreviation.json',\n",
    "    code_for_position = Players_data.dict_pos_factorize\n",
    "    )\n",
    "\n",
    "df2023.head()"
   ]
  },
  {
   "cell_type": "code",
   "execution_count": 23,
   "metadata": {},
   "outputs": [],
   "source": [
    "X_2023_regression = clean_input_data_for_regression(df2023, imputer)\n",
    "X_2023_cnn, player_D = clean_scale_input_data_for_cnn(df2023, nan_imputer, scaler_dl, onehotencoder, multiplier_of_data=2500)"
   ]
  },
  {
   "cell_type": "code",
   "execution_count": 24,
   "metadata": {},
   "outputs": [
    {
     "name": "stdout",
     "output_type": "stream",
     "text": [
      "79/79 [==============================] - 0s 2ms/step\n",
      "Testing at predicting the NBA MVP for the 2023-24 NBA season with CNN\n",
      "{'Nikola Jokić': 379, 'Shai Gilgeous-Alexander': 324, 'Luka Dončić': 256, 'Giannis Antetokounmpo': 254, 'Domantas Sabonis': 165}\n"
     ]
    }
   ],
   "source": [
    "test_2023 = model_cnn.predict(X_2023_cnn)\n",
    "\n",
    "resultssss = {}\n",
    "for num, pred in enumerate(test_2023):\n",
    "    index_of_predicted = np.argmax(pred)\n",
    "    player = player_D[num][index_of_predicted][\"player\"]\n",
    "    resultssss.setdefault(player,0)\n",
    "    resultssss[player] = resultssss.get(player,0) + 1\n",
    "    \n",
    "sorted_MVPS = dict(sorted(resultssss.items(), key=lambda item:item[1], \n",
    "reverse=True))\n",
    "print('Testing at predicting the NBA MVP for the 2023-24 NBA season with CNN')\n",
    "print({k: sorted_MVPS[k] for k in list(sorted_MVPS.keys())[:5]})"
   ]
  },
  {
   "cell_type": "code",
   "execution_count": 25,
   "metadata": {},
   "outputs": [
    {
     "name": "stdout",
     "output_type": "stream",
     "text": [
      "Testing at predicting the NBA MVP for the 2023-24 NBA season with decision tree :\n"
     ]
    },
    {
     "data": {
      "text/html": [
       "<div>\n",
       "<style scoped>\n",
       "    .dataframe tbody tr th:only-of-type {\n",
       "        vertical-align: middle;\n",
       "    }\n",
       "\n",
       "    .dataframe tbody tr th {\n",
       "        vertical-align: top;\n",
       "    }\n",
       "\n",
       "    .dataframe thead th {\n",
       "        text-align: right;\n",
       "    }\n",
       "</style>\n",
       "<table border=\"1\" class=\"dataframe\">\n",
       "  <thead>\n",
       "    <tr style=\"text-align: right;\">\n",
       "      <th></th>\n",
       "      <th>player</th>\n",
       "      <th>decision tree</th>\n",
       "    </tr>\n",
       "  </thead>\n",
       "  <tbody>\n",
       "    <tr>\n",
       "      <th>24</th>\n",
       "      <td>Nikola Jokić</td>\n",
       "      <td>0.685615</td>\n",
       "    </tr>\n",
       "    <tr>\n",
       "      <th>11</th>\n",
       "      <td>Luka Dončić</td>\n",
       "      <td>0.275200</td>\n",
       "    </tr>\n",
       "    <tr>\n",
       "      <th>17</th>\n",
       "      <td>Shai Gilgeous-Alexander</td>\n",
       "      <td>0.246750</td>\n",
       "    </tr>\n",
       "    <tr>\n",
       "      <th>2</th>\n",
       "      <td>Giannis Antetokounmpo</td>\n",
       "      <td>0.154717</td>\n",
       "    </tr>\n",
       "    <tr>\n",
       "      <th>25</th>\n",
       "      <td>Kawhi Leonard</td>\n",
       "      <td>0.039835</td>\n",
       "    </tr>\n",
       "  </tbody>\n",
       "</table>\n",
       "</div>"
      ],
      "text/plain": [
       "                     player  decision tree\n",
       "24             Nikola Jokić       0.685615\n",
       "11              Luka Dončić       0.275200\n",
       "17  Shai Gilgeous-Alexander       0.246750\n",
       "2     Giannis Antetokounmpo       0.154717\n",
       "25            Kawhi Leonard       0.039835"
      ]
     },
     "execution_count": 25,
     "metadata": {},
     "output_type": "execute_result"
    }
   ],
   "source": [
    "df2023.head()\n",
    "y_pred_dt = model_decision_tree.predict(X_2023_regression)\n",
    "y_pred_rf = model_random_forest.predict(X_2023_regression)\n",
    "\n",
    "df_2023_eligible_players = apply_eligibilty_criteria(df2023)\n",
    "df_2023_eligible_players['decision tree'] = y_pred_dt\n",
    "df_2023_eligible_players['random forest'] = y_pred_rf\n",
    "\n",
    "print('Testing at predicting the NBA MVP for the 2023-24 NBA season with decision tree :')\n",
    "df_2023_eligible_players.sort_values(by=['decision tree'], ascending=False)[['player','decision tree']].head(5)"
   ]
  },
  {
   "cell_type": "code",
   "execution_count": 26,
   "metadata": {},
   "outputs": [
    {
     "name": "stdout",
     "output_type": "stream",
     "text": [
      "Testing at predicting the NBA MVP for the 2023-24 NBA season with random forest :\n"
     ]
    },
    {
     "data": {
      "text/html": [
       "<div>\n",
       "<style scoped>\n",
       "    .dataframe tbody tr th:only-of-type {\n",
       "        vertical-align: middle;\n",
       "    }\n",
       "\n",
       "    .dataframe tbody tr th {\n",
       "        vertical-align: top;\n",
       "    }\n",
       "\n",
       "    .dataframe thead th {\n",
       "        text-align: right;\n",
       "    }\n",
       "</style>\n",
       "<table border=\"1\" class=\"dataframe\">\n",
       "  <thead>\n",
       "    <tr style=\"text-align: right;\">\n",
       "      <th></th>\n",
       "      <th>player</th>\n",
       "      <th>random forest</th>\n",
       "    </tr>\n",
       "  </thead>\n",
       "  <tbody>\n",
       "    <tr>\n",
       "      <th>24</th>\n",
       "      <td>Nikola Jokić</td>\n",
       "      <td>0.813827</td>\n",
       "    </tr>\n",
       "    <tr>\n",
       "      <th>17</th>\n",
       "      <td>Shai Gilgeous-Alexander</td>\n",
       "      <td>0.665498</td>\n",
       "    </tr>\n",
       "    <tr>\n",
       "      <th>11</th>\n",
       "      <td>Luka Dončić</td>\n",
       "      <td>0.419642</td>\n",
       "    </tr>\n",
       "    <tr>\n",
       "      <th>2</th>\n",
       "      <td>Giannis Antetokounmpo</td>\n",
       "      <td>0.390422</td>\n",
       "    </tr>\n",
       "    <tr>\n",
       "      <th>38</th>\n",
       "      <td>Jayson Tatum</td>\n",
       "      <td>0.165499</td>\n",
       "    </tr>\n",
       "  </tbody>\n",
       "</table>\n",
       "</div>"
      ],
      "text/plain": [
       "                     player  random forest\n",
       "24             Nikola Jokić       0.813827\n",
       "17  Shai Gilgeous-Alexander       0.665498\n",
       "11              Luka Dončić       0.419642\n",
       "2     Giannis Antetokounmpo       0.390422\n",
       "38             Jayson Tatum       0.165499"
      ]
     },
     "execution_count": 26,
     "metadata": {},
     "output_type": "execute_result"
    }
   ],
   "source": [
    "print('Testing at predicting the NBA MVP for the 2023-24 NBA season with random forest :')\n",
    "df_2023_eligible_players.sort_values(by=['random forest'], ascending=False)[['player','random forest']].head(5)"
   ]
  }
 ],
 "metadata": {
  "kernelspec": {
   "display_name": "ass3DS",
   "language": "python",
   "name": "python3"
  },
  "language_info": {
   "codemirror_mode": {
    "name": "ipython",
    "version": 3
   },
   "file_extension": ".py",
   "mimetype": "text/x-python",
   "name": "python",
   "nbconvert_exporter": "python",
   "pygments_lexer": "ipython3",
   "version": "3.11.4"
  }
 },
 "nbformat": 4,
 "nbformat_minor": 2
}
